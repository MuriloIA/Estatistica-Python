{
 "cells": [
  {
   "cell_type": "markdown",
   "id": "d4ac6f29",
   "metadata": {},
   "source": [
    "---\n",
    "\n",
    "# <center>Medidas de Resumo</center>\n",
    "\n",
    "---"
   ]
  },
  {
   "cell_type": "markdown",
   "id": "3e084eb1",
   "metadata": {},
   "source": [
    "## <strong style=\"color: #800000;\">Medidas de Posição - Dados não agrupados🦉</strong>\n",
    "\n",
    "<p style=\"font-family: \tTimes New Roman; font-size: 16px;\">Medidas de posição são medidas que nos permitem representar de forma resumida um conjunto de dados relacionados a um determinado fenômeno.</p>"
   ]
  },
  {
   "cell_type": "markdown",
   "id": "db4f3723",
   "metadata": {},
   "source": [
    "---\n",
    "\n",
    "### Média\n",
    "\n",
    "<p style=\"font-family: \tTimes New Roman; font-size: 16px;\">Seja $X$ a variável de estudo, $x_i$ representa o valor observado na n-ésima unidade experimental e $\\bar{X}$ é a sua média. Quando os dados são não agrupados a sua média é dada pela soma de todos os elementos dividido pelo número de elementos.</p>\n",
    "\n",
    "### $$\\bar{X} = \\frac{1}{n}\\sum_{i=1}^nx_i$$"
   ]
  },
  {
   "cell_type": "code",
   "execution_count": 1,
   "id": "22ef38dd",
   "metadata": {},
   "outputs": [],
   "source": [
    "def media(X):\n",
    "    \"\"\"\n",
    "        Cálcular a média da variável X.\n",
    "    \"\"\"\n",
    "    \n",
    "    # Somando todos os elementos \n",
    "    s = sum(X)\n",
    "    \n",
    "    # Obtendo o número de elementos da variável X\n",
    "    n = len(X)\n",
    "    \n",
    "    # Cálculo da média\n",
    "    md = s / n\n",
    "    \n",
    "    # Imprimindo o resultado da média\n",
    "    print(f\"Média: {md:.2f}\")"
   ]
  },
  {
   "cell_type": "code",
   "execution_count": 2,
   "id": "77b248eb",
   "metadata": {},
   "outputs": [
    {
     "name": "stdout",
     "output_type": "stream",
     "text": [
      "Média: 3.00\n"
     ]
    }
   ],
   "source": [
    "# Chamando a função media\n",
    "media([1, 2, 3, 4, 5])"
   ]
  },
  {
   "cell_type": "markdown",
   "id": "541ec841",
   "metadata": {},
   "source": [
    "**Segunda opção para o calculo da média**"
   ]
  },
  {
   "cell_type": "code",
   "execution_count": 3,
   "id": "47cc5e25",
   "metadata": {},
   "outputs": [],
   "source": [
    "import pandas as pd\n",
    "import numpy as np\n",
    "import warnings\n",
    "\n",
    "# Removendo Alertas Indesejáveis\n",
    "warnings.filterwarnings(\"ignore\")"
   ]
  },
  {
   "cell_type": "code",
   "execution_count": 4,
   "id": "68da17c3",
   "metadata": {},
   "outputs": [
    {
     "data": {
      "text/plain": [
       "3.0"
      ]
     },
     "execution_count": 4,
     "metadata": {},
     "output_type": "execute_result"
    }
   ],
   "source": [
    "# Cálculo da média\n",
    "np.mean([1, 2, 3, 4, 5])"
   ]
  },
  {
   "cell_type": "markdown",
   "id": "c300e4e4",
   "metadata": {},
   "source": [
    "---\n",
    "\n",
    "### Mediana\n",
    "\n",
    "<p style=\"font-family: \tTimes New Roman; font-size: 16px;\">A mediana ($Me$ ou $Md$) de uma variável $X$ é dada pelo valor que divide ao meio, ou seja, é o valor (do próprio conjunto ou teórico) que tem antes e depois de si igual quantidade de dados.</p>\n",
    "\n",
    "### $$Md(X) = X_{(\\frac{n+1}{2})}, Ímpar$$\n",
    "\n",
    "### $$Md(X) = \\frac{X_{(\\frac{n}{2})} + X_{(\\frac{n}{2}+1)}}{2}, Par$$"
   ]
  },
  {
   "cell_type": "code",
   "execution_count": 5,
   "id": "4b8c5375",
   "metadata": {},
   "outputs": [],
   "source": [
    "def mediana(X):\n",
    "    \n",
    "    # Rol da variável X\n",
    "    X_ordenado = sorted(X)\n",
    "    \n",
    "    # Codição para o cálculo correto da mediana\n",
    "    n = len(X)\n",
    "    if(n % 2 == 0):\n",
    "        # Cálculo da mediana\n",
    "        me = ((X[int((n/2))] + X[int(((n/2) + 1))]) / 2) - 1\n",
    "    else:\n",
    "        me = X[int(((n + 1) / 2))-1]\n",
    "        \n",
    "    # Imprimindo o valor da mediana\n",
    "    print(f\"Mediana: {me:.2f}\")"
   ]
  },
  {
   "cell_type": "code",
   "execution_count": 6,
   "id": "a6089bd2",
   "metadata": {},
   "outputs": [
    {
     "name": "stdout",
     "output_type": "stream",
     "text": [
      "Mediana: 3.00\n",
      "Mediana: 4.50\n"
     ]
    }
   ],
   "source": [
    "# Chamando a função mediana\n",
    "mediana([1, 2, 3, 4, 5]) # n Ímpar\n",
    "mediana([1, 2, 3, 4, 5, 6, 7, 8]) # n Par"
   ]
  },
  {
   "cell_type": "markdown",
   "id": "3ee47382",
   "metadata": {},
   "source": [
    "**Segunda opção para o cálculo da mediana**"
   ]
  },
  {
   "cell_type": "code",
   "execution_count": 7,
   "id": "aa9a912d",
   "metadata": {},
   "outputs": [
    {
     "data": {
      "text/plain": [
       "4.5"
      ]
     },
     "execution_count": 7,
     "metadata": {},
     "output_type": "execute_result"
    }
   ],
   "source": [
    "np.median([1, 2, 3, 4, 5, 6, 7, 8])"
   ]
  },
  {
   "cell_type": "markdown",
   "id": "10b44d2c",
   "metadata": {},
   "source": [
    "---\n",
    "\n",
    "### Moda\n",
    "\n",
    "<p style=\"font-family: \tTimes New Roman; font-size: 16px;\">A moda $Mo$ de uma variável $X$ é o valor que mais se repete no conjunto de dados.</p>\n",
    "\n",
    "<p><strong>Mo</strong> - Valor com maior $f_i$</p>"
   ]
  },
  {
   "cell_type": "code",
   "execution_count": 8,
   "id": "7644b35b",
   "metadata": {},
   "outputs": [],
   "source": [
    "from scipy import stats as st"
   ]
  },
  {
   "cell_type": "code",
   "execution_count": 9,
   "id": "9eca334e",
   "metadata": {},
   "outputs": [
    {
     "name": "stdout",
     "output_type": "stream",
     "text": [
      "Vetor:  [1, 2, 2, 3, 1, 2, 5, 4, 4, 3, 2]\n",
      "Moda: 2\n"
     ]
    }
   ],
   "source": [
    "# Cálculando a moda com o pacote Scipy\n",
    "l = [1, 2, 2, 3, 1, 2, 5, 4, 4, 3, 2]\n",
    "print(\"Vetor: \", l)\n",
    "print(f\"Moda: {st.mode(l)[0][0]}\")"
   ]
  },
  {
   "cell_type": "markdown",
   "id": "8e27b08c",
   "metadata": {},
   "source": [
    "## <strong style=\"color: #800000;\">Medidas de Posição - Dados agrupados sem intervalo de classe  🦘</strong>"
   ]
  },
  {
   "cell_type": "markdown",
   "id": "4329634f",
   "metadata": {},
   "source": [
    "---\n",
    "\n",
    "### Média\n",
    "\n",
    "<p style=\"font-family: \tTimes New Roman; font-size: 16px;\">Seja $X$ a variável em estudo, $x_i$ representa o valor observado da variável na i-ésima unidade experimental e $\\bar{X}$ é a sua média.</p>\n",
    "\n",
    "\n",
    "### $$\\bar{X} = \\frac{\\sum x_if_i}{\\sum fi}$$"
   ]
  },
  {
   "cell_type": "markdown",
   "id": "b66c1a8d",
   "metadata": {},
   "source": [
    "### Mediana\n",
    "\n",
    "<p style=\"font-family: \tTimes New Roman; font-size: 16px;\">A mediana ($M_e$) de uma variável X é dada pelo valor que divide o conjunto de dados ao meio, ou seja, é o valor (do próprio conjunto ou teórico) que tem antes e depois de si igual quantidade de dados. No caso de dados agrupados sem intervalo de classe, precisamos calcular a frequência acumulada ($F_{ac}$) e o valor $\\frac{n}{2}$ o qual divide o conjunto de dados ao meio. Busca-se o valor $\\frac{n}{2}$ na $F_{ac}$ e determina-se qual é a classe que representa a mediana.</p>"
   ]
  },
  {
   "cell_type": "markdown",
   "id": "a103c042",
   "metadata": {},
   "source": [
    "### Moda\n",
    "\n",
    "<p style=\"font-family: \tTimes New Roman; font-size: 16px;\">A moda ($M_o$) de uma variável X é dado pelo valor que apresenta a maior frequência absoluta, ou seja, é o valor que mais se repete no conjunto de dados.</p>\n",
    "\n",
    "### $$M_o = Maior f_i$$"
   ]
  },
  {
   "cell_type": "markdown",
   "id": "31a9125d",
   "metadata": {},
   "source": [
    "## <strong style=\"color: #800000;\">Medidas de Posição - Dados agrupados com intervalo de classe  🦩</strong>"
   ]
  },
  {
   "cell_type": "markdown",
   "id": "c7bb6a9b",
   "metadata": {},
   "source": [
    "### Média\n",
    "\n",
    "<p style=\"font-family: \tTimes New Roman; font-size: 16px;\">Para dados agrupados com intervalos de classe é necessário calcular para cada classe o ponto médio dado por $x_i = \\frac{l_i + l_s}{2}$ e depois pode-se proceder da mesma forma que para dados agrupados sem intervalos de classe.</p>\n",
    "\n",
    "### $$\\bar{X} = \\frac{\\sum x_if_i}{\\sum fi}$$"
   ]
  },
  {
   "cell_type": "markdown",
   "id": "cf516724",
   "metadata": {},
   "source": [
    "### Mediana\n",
    "\n",
    "<p style=\"font-family: \tTimes New Roman; font-size: 16px;\">Busca-se o valor $\\frac{n}{2}$ e determina-se qual é a classe que representa a mediana. Após ser determinada a classe que contém a mediana, aplica-se a seguinte equação:</p>\n",
    "\n",
    "### $$M_e(X) = l_{iMe} + \\left[\\frac{\\frac{n}{2} - \\sum f_{iant}}{f_{iMe}}\\right]h$$\n",
    "\n",
    "Onde:\n",
    "\n",
    "- $l_{iMe}$ - Limite inferior da classe que contém a mediana.\n",
    "\n",
    "- $\\sum f_{iant}$ - Soma das frequências anteriores à classe da mediana.\n",
    "\n",
    "- $f_{iMe}$ - Frequência da classe que contém a mediana.\n",
    "\n",
    "- $h$ - Amplitude do intervalo de classe."
   ]
  },
  {
   "cell_type": "markdown",
   "id": "15d7fa5b",
   "metadata": {},
   "source": [
    "### Moda\n",
    "\n",
    "<p style=\"font-family: \tTimes New Roman; font-size: 16px;\">A moda $M_o$ de uma variável $X$ é dada pelo valor que apresenta maior frequência absoluta, ou seja, é o valor que mais se repete no conjunto de dados. Desta forma determina-se a classe com maior e aplica-se a fórmula abaixo:</p>\n",
    "\n",
    "### $$M_o(X) = l_{iMo} + \\left[ \\frac{\\Delta_1}{\\Delta_1 + \\Delta_2}\\right]h$$\n",
    "\n",
    "Onde:\n",
    "\n",
    "- $l_{iMo}$ - Limite inferior da classe que contém a moda.\n",
    "\n",
    "- $\\Delta_1 = f_{iMo} - f_{iant}$: Frequência da classe da moda menos a frequência da classe anterior a da moda.\n",
    "\n",
    "- $\\Delta_2 = f_{iMo - f_{ipos}}$: Frequência da classe da moda menos a frequência da classe posterior a da moda.\n",
    "\n",
    "- $h$ - Amplitude do intervalo de classe."
   ]
  },
  {
   "cell_type": "markdown",
   "id": "d2e8ac08",
   "metadata": {},
   "source": [
    "## Exemplo - Python  🐑\n",
    "\n",
    "<p style=\"font-family: \tTimes New Roman; font-size: 16px;\">O conjunto de dados abaixo representa a altura em centímetros de uma turma de alunos do ensino médio:</p>\n",
    "\n",
    "---\n",
    "\n",
    "160, 160, 162, 163, 163,\n",
    "165, 167, 168, 170, 170,\n",
    "171, 172, 174, 174, 175,\n",
    "177, 178, 178, 178, 180\n",
    "\n",
    "---\n",
    "\n",
    "**O nosso objetivo é construir uma tabela de distribuição de frequências para dados agrupados com intervalo de classe.**"
   ]
  },
  {
   "cell_type": "code",
   "execution_count": 10,
   "id": "e0cbf2a9",
   "metadata": {},
   "outputs": [],
   "source": [
    "# Instanciando os valores das alturas dos alunos\n",
    "alturas = [160, 160, 162, 163, 163, 165, 167, 168, 170, 170,\n",
    "           171, 172, 174, 174, 175, 177, 178, 178, 178, 180]"
   ]
  },
  {
   "cell_type": "markdown",
   "id": "1160a704",
   "metadata": {},
   "source": [
    "### Definindo o número de classes com a regra de sturges\n",
    "\n",
    "### $$k = 1 + 3,3log_{10}(n)$$"
   ]
  },
  {
   "cell_type": "code",
   "execution_count": 11,
   "id": "8f5c98e1",
   "metadata": {},
   "outputs": [
    {
     "name": "stdout",
     "output_type": "stream",
     "text": [
      "Número de intervalos de classe: 5\n"
     ]
    }
   ],
   "source": [
    "# Aplicando a regra de Sturgues\n",
    "k = round(1 + (3.3 * np.log10(len(alturas))))\n",
    "\n",
    "# Imprimindo o número de intervalos \n",
    "print(f'Número de intervalos de classe: {k}')"
   ]
  },
  {
   "cell_type": "markdown",
   "id": "309e6efa",
   "metadata": {},
   "source": [
    "### Obtendo a Amplitude de Classe\n",
    "\n",
    "<p style=\"font-family: \tTimes New Roman; font-size: 16px;\">Para obtermos a amplitude de classe ($h$), é necessário obter antes a amplitude total ($Altura_{max} - Altura_{min}$). Em seguida dividimos a amplitude total ($AT$) pelo número de classes ($k$), obtida através da regra de Sturges.</p>"
   ]
  },
  {
   "cell_type": "code",
   "execution_count": 12,
   "id": "7f14e642",
   "metadata": {},
   "outputs": [
    {
     "name": "stdout",
     "output_type": "stream",
     "text": [
      "Amplitude Total 20\n"
     ]
    }
   ],
   "source": [
    "# Amplitude Total\n",
    "AT = max(alturas) - min(alturas)\n",
    "print(f\"Amplitude Total {AT}\")"
   ]
  },
  {
   "cell_type": "code",
   "execution_count": 13,
   "id": "8a355d32",
   "metadata": {},
   "outputs": [
    {
     "name": "stdout",
     "output_type": "stream",
     "text": [
      "Amplitude de Classe: 4.0\n"
     ]
    }
   ],
   "source": [
    "# Amplitude de classe\n",
    "h = AT / k\n",
    "\n",
    "# Imprimindo a amplitude de classe\n",
    "print(f'Amplitude de Classe: {h}')"
   ]
  },
  {
   "cell_type": "markdown",
   "id": "55434b64",
   "metadata": {},
   "source": [
    "### Criando a Tabela de Frequências Com Intervalo De Classe\n",
    "\n",
    "- $fi = $ Frequência Absoluta\n",
    "\n",
    "- $fri = $ Frequência Relativa\n",
    "\n",
    "- $fac = $ Frequência Acumulada\n",
    "\n",
    "- $xi = $ Ponto Médio"
   ]
  },
  {
   "cell_type": "code",
   "execution_count": 14,
   "id": "c2da4025",
   "metadata": {
    "scrolled": true
   },
   "outputs": [
    {
     "data": {
      "text/html": [
       "<div>\n",
       "<style scoped>\n",
       "    .dataframe tbody tr th:only-of-type {\n",
       "        vertical-align: middle;\n",
       "    }\n",
       "\n",
       "    .dataframe tbody tr th {\n",
       "        vertical-align: top;\n",
       "    }\n",
       "\n",
       "    .dataframe thead th {\n",
       "        text-align: right;\n",
       "    }\n",
       "</style>\n",
       "<table border=\"1\" class=\"dataframe\">\n",
       "  <thead>\n",
       "    <tr style=\"text-align: right;\">\n",
       "      <th></th>\n",
       "      <th>fi</th>\n",
       "      <th>fri</th>\n",
       "      <th>fac</th>\n",
       "      <th>xi</th>\n",
       "    </tr>\n",
       "  </thead>\n",
       "  <tbody>\n",
       "    <tr>\n",
       "      <th>160 |-- 164</th>\n",
       "      <td>5</td>\n",
       "      <td>0.25</td>\n",
       "      <td>5</td>\n",
       "      <td>162</td>\n",
       "    </tr>\n",
       "    <tr>\n",
       "      <th>164 |-- 168</th>\n",
       "      <td>2</td>\n",
       "      <td>0.10</td>\n",
       "      <td>7</td>\n",
       "      <td>166</td>\n",
       "    </tr>\n",
       "    <tr>\n",
       "      <th>168 |-- 172</th>\n",
       "      <td>4</td>\n",
       "      <td>0.20</td>\n",
       "      <td>11</td>\n",
       "      <td>170</td>\n",
       "    </tr>\n",
       "    <tr>\n",
       "      <th>172 |-- 176</th>\n",
       "      <td>4</td>\n",
       "      <td>0.20</td>\n",
       "      <td>15</td>\n",
       "      <td>174</td>\n",
       "    </tr>\n",
       "    <tr>\n",
       "      <th>176 --| 180</th>\n",
       "      <td>5</td>\n",
       "      <td>0.25</td>\n",
       "      <td>20</td>\n",
       "      <td>178</td>\n",
       "    </tr>\n",
       "  </tbody>\n",
       "</table>\n",
       "</div>"
      ],
      "text/plain": [
       "             fi   fri  fac   xi\n",
       "160 |-- 164   5  0.25    5  162\n",
       "164 |-- 168   2  0.10    7  166\n",
       "168 |-- 172   4  0.20   11  170\n",
       "172 |-- 176   4  0.20   15  174\n",
       "176 --| 180   5  0.25   20  178"
      ]
     },
     "execution_count": 14,
     "metadata": {},
     "output_type": "execute_result"
    }
   ],
   "source": [
    "# Dados da tabela de frequências\n",
    "classes = [\"160 |-- 164\", \"164 |-- 168\", \"168 |-- 172\", \"172 |-- 176\", \"176 --| 180\"]\n",
    "fi      = [5, 2, 4, 4, 5]\n",
    "fri     = [0.25, 0.10, 0.20, 0.20, 0.25]\n",
    "fac     = [5, 7, 11, 15, 20]\n",
    "xi      = [162, 166, 170, 174, 178]\n",
    "df_dict = {\n",
    "           \"fi\":  fi,\n",
    "           \"fri\": fri,\n",
    "           \"fac\": fac,\n",
    "           \"xi\":  xi\n",
    "}\n",
    "\n",
    "# Criando Tabela de Frequências \n",
    "df = pd.DataFrame(df_dict, index=classes)\n",
    "\n",
    "# Imprimindo a tabela de Frequências\n",
    "df"
   ]
  },
  {
   "cell_type": "markdown",
   "id": "54233b44",
   "metadata": {},
   "source": [
    "**Calculando as Medidas de Posição Central**\n",
    "\n",
    "\n",
    "#### Média\n",
    "\n",
    "<p style=\"font-family: \tTimes New Roman; font-size: 16px;\">Para dados agrupados com intervalo de classe é necessário calcular para cada classe o ponto médio dado por $x_i = \\frac{li + ls}{2}$ e depois proceder da mesma forma que para dados agrupados sem intervalo de classe:</p>\n",
    "\n",
    "### $$\\bar{X} = \\frac{\\sum x_if_i}{\\sum f_i}$$"
   ]
  },
  {
   "cell_type": "code",
   "execution_count": 15,
   "id": "b63dd932",
   "metadata": {},
   "outputs": [],
   "source": [
    "def calcular_media(data):\n",
    "    \n",
    "    # Somatório do numerador\n",
    "    s_numerador = 0\n",
    "    for i in range(data.shape[0]):\n",
    "        s_numerador += data[\"xi\"][i] * data[\"fi\"][i]\n",
    "        \n",
    "    # Soma do denominador\n",
    "    s_denominador = 0\n",
    "    for i in range(data.shape[0]):\n",
    "        s_denominador += data[\"fi\"][i]\n",
    "        \n",
    "    # Cálculo da média\n",
    "    media = s_numerador / s_denominador\n",
    "    return media"
   ]
  },
  {
   "cell_type": "code",
   "execution_count": 16,
   "id": "ceeca8e4",
   "metadata": {},
   "outputs": [
    {
     "name": "stdout",
     "output_type": "stream",
     "text": [
      "Média: 170.4\n"
     ]
    }
   ],
   "source": [
    "print(f\"Média: {calcular_media(df)}\")"
   ]
  },
  {
   "cell_type": "markdown",
   "id": "c4fe0aa4",
   "metadata": {},
   "source": [
    "#### Mediana\n",
    "\n",
    "<p style=\"font-family: \tTimes New Roman; font-size: 16px;\">Para obtermos a mediana de um tabela de dados agrupados com intervalos de classes seguimos o seguinte procedimento:</p>\n",
    "\n",
    "<p style=\"font-family: \tTimes New Roman; font-size: 16px;\">O primeiro passo é encontrar o valor $\\frac{n}{2}$ e determinar qual é a classe que representa a mediana. Após ser determinada a classe que contém a mediana, aplica-se a seguinte equação:</p>\n",
    "\n",
    "### $$M_e(X) = l_{iMe} + \\left[\\frac{\\frac{n}{2} - \\sum f_{iant}}{f_{iMe}}\\right]h$$\n",
    "\n",
    "Onde:\n",
    "\n",
    "- $l_{iMe}$ - Limite inferior da classe que contém a mediana.\n",
    "\n",
    "- $\\sum f_{iant}$ - Soma das frequências anteriores à classe da mediana.\n",
    "\n",
    "- $f_{iMe}$ - Frequência da classe que contém a mediana.\n",
    "\n",
    "- $h$ - Amplitude do intervalo de classe."
   ]
  },
  {
   "cell_type": "code",
   "execution_count": 17,
   "id": "9a973120",
   "metadata": {},
   "outputs": [
    {
     "name": "stdout",
     "output_type": "stream",
     "text": [
      "Classe da mediana está na frequência acumulada 10.0\n"
     ]
    }
   ],
   "source": [
    "# Obtendo a classe que contém a mediana\n",
    "print(f\"Classe da mediana está na frequência acumulada {20/2}\")"
   ]
  },
  {
   "cell_type": "markdown",
   "id": "37cb64cc",
   "metadata": {},
   "source": [
    "<p style=\"font-family: \tTimes New Roman; font-size: 16px;\">Ou seja, o valor da mediana está no intervalo de ($168 |-- 172$). Agora que encontramos a classe da mediana, aplicamos a fórmula mostrada acima.</p>"
   ]
  },
  {
   "cell_type": "code",
   "execution_count": 19,
   "id": "4644aa18",
   "metadata": {},
   "outputs": [
    {
     "name": "stdout",
     "output_type": "stream",
     "text": [
      "Mediana: 170.25\n"
     ]
    }
   ],
   "source": [
    "# Obtendo a mediana\n",
    "Me = 168 + ((20/2 - 7) / 4) * 3\n",
    "\n",
    "# Imprimindo o valor da mediana\n",
    "print(f\"Mediana: {Me}\")"
   ]
  },
  {
   "cell_type": "markdown",
   "id": "7c11f39b",
   "metadata": {},
   "source": [
    "#### Moda\n",
    "\n",
    "<p style=\"font-family: \tTimes New Roman; font-size: 16px;\">Para obtermos a moda de um tabela de dados agrupados com intervalos de classes seguimos o seguinte procedimento:</p>\n",
    "\n",
    "- 1 - Detectar a classe que possui a maior frequência absoluta\n",
    "\n",
    "- 2 - Aplicar a seguinte fórmula:\n",
    "\n",
    "### $$M_o(X) = l_{iMo} + \\left[ \\frac{\\Delta_1}{\\Delta_1 + \\Delta_2}\\right]h$$"
   ]
  },
  {
   "cell_type": "code",
   "execution_count": 20,
   "id": "6d87a150",
   "metadata": {},
   "outputs": [],
   "source": [
    "def Mo(liMo, delta1, delta2, h):\n",
    "    \n",
    "    # Cálculo da Moda\n",
    "    mo = (liMo + ((delta1 / (delta1 + delta2)) * h))\n",
    "    \n",
    "    # Retornando o valor da Moda\n",
    "    return mo"
   ]
  },
  {
   "cell_type": "markdown",
   "id": "5cd144b8",
   "metadata": {},
   "source": [
    "<div class=\"alert alert-block alert-info\">\n",
    "<b>Observação:</b> Note que na tabela de distribuição de frequência temos duas modas. Sendo assim, temos uma distribuição bimodal, logo teremos que calcular o valor de duas modas.\n",
    "</div>\n"
   ]
  },
  {
   "cell_type": "code",
   "execution_count": 21,
   "id": "909d2c6e",
   "metadata": {},
   "outputs": [],
   "source": [
    "# Definindo os valores dos parâmetro para o cálculo da moda\n",
    "\n",
    "# Parâmetro para a obtênção da primeira moda\n",
    "liMo1   = 160\n",
    "delta11 = 5\n",
    "delta21 = 3\n",
    "h       = 4\n",
    "\n",
    "# Parâmetros para a obtênção da segunda moda\n",
    "liMo2   = 176\n",
    "delta12 = 1\n",
    "delta22 = 5\n",
    "h       = 4"
   ]
  },
  {
   "cell_type": "code",
   "execution_count": 23,
   "id": "7659bd63",
   "metadata": {},
   "outputs": [
    {
     "name": "stdout",
     "output_type": "stream",
     "text": [
      "Primeira Moda: 162.50\n",
      "Segunda Moda: 176.67\n"
     ]
    }
   ],
   "source": [
    "# Chamando a função Mo\n",
    "print(f\"Primeira Moda: {Mo(liMo1, delta11, delta21, h):.2f}\")\n",
    "print(f\"Segunda Moda: {Mo(liMo2, delta12, delta22, h):.2f}\")"
   ]
  },
  {
   "cell_type": "code",
   "execution_count": null,
   "id": "7afccc8c",
   "metadata": {},
   "outputs": [],
   "source": []
  }
 ],
 "metadata": {
  "kernelspec": {
   "display_name": "Python 3 (ipykernel)",
   "language": "python",
   "name": "python3"
  },
  "language_info": {
   "codemirror_mode": {
    "name": "ipython",
    "version": 3
   },
   "file_extension": ".py",
   "mimetype": "text/x-python",
   "name": "python",
   "nbconvert_exporter": "python",
   "pygments_lexer": "ipython3",
   "version": "3.9.13"
  }
 },
 "nbformat": 4,
 "nbformat_minor": 5
}
