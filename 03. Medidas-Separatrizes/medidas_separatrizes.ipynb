{
 "cells": [
  {
   "cell_type": "markdown",
   "id": "0dd00f9c",
   "metadata": {},
   "source": [
    "---\n",
    "\n",
    "# <center>Medidas Separatrizes</center>\n",
    "\n",
    "---"
   ]
  },
  {
   "attachments": {},
   "cell_type": "markdown",
   "id": "f3a738d7",
   "metadata": {},
   "source": [
    "## Introdução  🎯\n",
    "\n",
    "Tanto a média como o desvio padrão podem não ser medidas adequadas para representar um conjunto de dados, pois:\n",
    "\n",
    "- (a) São afetados, de forma exagerada, por valores extremos.\n",
    "\n",
    "- (b) Apenas com estes dois valores não temos ideia da simetria ou assimetria da distribuição dos dados.\n",
    "\n",
    "Para contornar esses fatos, outras medidas precisam ser consideradas. Vimos que a mediana é um valor que deixa metade dos dados abaixo dele e metade acima. De modo geral, podemos definir uma medida chamada quantil de ordem $p$ ou p-quantil, indicado por $q(p)$, em que $p$ é uma proporção qualquer, $0 < p < 1$, talque $100\\%$ das observações sejam menores do que $q(p)$.\n",
    "\n",
    "**Indicamos, abaixo, alguns quantis e seus nomes particulares.**\n",
    "\n",
    "- $q(0, 25) = q_1$: 1º Quartil = $25º$ Percentil\n",
    "\n",
    "- $q(0, 50) = q_2$: Mediana = 2º Quartil = 50º Percentil\n",
    "\n",
    "- $q(0, 75) = q_3$: 3º Quartil = 75º Percentil\n",
    "\n",
    "- $q(0,95)$ = $95º$ Percentil"
   ]
  },
  {
   "attachments": {},
   "cell_type": "markdown",
   "id": "a8443dec",
   "metadata": {},
   "source": [
    "## Boxplot  🐊\n",
    "\n",
    "As informações dos quatro números (Mínimo, 1º Quartil, Mediana, 3º Quartil e Máximo) podem ser traduzidas gratificamente num diagrama, que chamaremos de boxplot, também conhecido como \"caixa-de-bigores\".\n",
    "\n",
    "<center><img src=\"img/boxplot.png\" width=60%></center>"
   ]
  },
  {
   "cell_type": "code",
   "execution_count": null,
   "id": "0b8bef73",
   "metadata": {},
   "outputs": [],
   "source": []
  }
 ],
 "metadata": {
  "kernelspec": {
   "display_name": "base",
   "language": "python",
   "name": "python3"
  },
  "language_info": {
   "codemirror_mode": {
    "name": "ipython",
    "version": 3
   },
   "file_extension": ".py",
   "mimetype": "text/x-python",
   "name": "python",
   "nbconvert_exporter": "python",
   "pygments_lexer": "ipython3",
   "version": "3.9.13 (main, Aug 25 2022, 23:26:10) \n[GCC 11.2.0]"
  },
  "vscode": {
   "interpreter": {
    "hash": "a2d2405b0b389a2c86a7cc1bdbd105e813c702e752be2bfc8bce149c09011e91"
   }
  }
 },
 "nbformat": 4,
 "nbformat_minor": 5
}
