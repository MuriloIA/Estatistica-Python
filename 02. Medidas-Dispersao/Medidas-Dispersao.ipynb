{
 "cells": [
  {
   "cell_type": "markdown",
   "id": "8882c00f",
   "metadata": {},
   "source": [
    "---\n",
    "\n",
    "# <center>Medidas de Dispersão</center>\n",
    "\n",
    "---"
   ]
  },
  {
   "cell_type": "markdown",
   "id": "04c6d21b",
   "metadata": {},
   "source": [
    "## Introdução  🦄\n",
    "\n",
    "<p style=\"font-family: \tTimes New Roman; font-size: 16px;\"></p>"
   ]
  },
  {
   "cell_type": "code",
   "execution_count": null,
   "id": "1f926182",
   "metadata": {},
   "outputs": [],
   "source": []
  }
 ],
 "metadata": {
  "kernelspec": {
   "display_name": "Python 3 (ipykernel)",
   "language": "python",
   "name": "python3"
  },
  "language_info": {
   "codemirror_mode": {
    "name": "ipython",
    "version": 3
   },
   "file_extension": ".py",
   "mimetype": "text/x-python",
   "name": "python",
   "nbconvert_exporter": "python",
   "pygments_lexer": "ipython3",
   "version": "3.9.13"
  }
 },
 "nbformat": 4,
 "nbformat_minor": 5
}
