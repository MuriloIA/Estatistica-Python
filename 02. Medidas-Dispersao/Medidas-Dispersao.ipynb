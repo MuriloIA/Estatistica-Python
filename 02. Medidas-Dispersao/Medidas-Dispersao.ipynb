{
 "cells": [
  {
   "cell_type": "markdown",
   "id": "8882c00f",
   "metadata": {},
   "source": [
    "---\n",
    "\n",
    "# <center>Medidas de Dispersão</center>\n",
    "\n",
    "---"
   ]
  },
  {
   "cell_type": "markdown",
   "id": "04c6d21b",
   "metadata": {},
   "source": [
    "## Introdução  🦄\n",
    "\n",
    "<p style=\"font-family: \tTimes New Roman; font-size: 16px;\">O resumo de um conjunto de dados por uma úica medida representativa de posição central esconde toda a informação sobre a variabilidade do conjunto de observações. Para obtermos informações sobre a variabilidade dos dados, utilizamos outras medidas estatísticas chamadas de medidas de dispersão.</p>\n",
    "\n",
    "<p style=\"font-family: \tTimes New Roman; font-size: 16px;\">As medidas de dispersão são medidas estatísticas que tentam quantificar a dispersão dos dados em relação a sua média ou mediana. As medidas de dispersão são: <i>desvio médio</i> ou <i>desvio médio absoluto</i>, <i>variância</i>, <i>desvio padrão</i> e <i>coeficiente de variação</i> ou <i>desvio padrão relativo</i>.</p>\n",
    "\n",
    "<strong>Algumas observações em relação aos símbolos utilizados neste caderno:</strong>\n",
    "\n",
    "- $\\sigma^2$ ↦ População (Variância)\n",
    "\n",
    "- $S^2$ ↦ Amostra (Variância)\n",
    "\n",
    "- $\\sigma$ ↦ População (Desvio Padrão)\n",
    "\n",
    "- $S$ ↦ Amostra (Desvio Padrão)"
   ]
  },
  {
   "cell_type": "markdown",
   "id": "0fd40351",
   "metadata": {},
   "source": [
    "## Desvio Médio ou Desvio Médio Absoluto 🪳\n",
    "\n",
    "<p style=\"font-family: \tTimes New Roman; font-size: 16px;\">Em estatística, o desvio médio absoluto ou apenas desvio médio dos elementos de um conjunto de dados é a diferença absoluta entre os elementos do conjunto e o ponto do qual o desvio é medido, mais frequentemente a mediana ou algumas vezes a média.</p>\n",
    "\n",
    "### $$dm(X) = \\frac{\\sum_{i=1}^n|x_i - \\bar{x}|}{n}$$"
   ]
  },
  {
   "cell_type": "code",
   "execution_count": 3,
   "id": "d23c7030",
   "metadata": {},
   "outputs": [],
   "source": [
    "# Pacotes utilizados\n",
    "import numpy as np"
   ]
  },
  {
   "cell_type": "code",
   "execution_count": 5,
   "id": "8c717229",
   "metadata": {},
   "outputs": [],
   "source": [
    "# Conjunto de dados\n",
    "grupo1 = np.array([3.0, 8.1, 9.0, 1.1, 12.8, 2.9])\n",
    "grupo2 = np.array([1.0, 2.0, 3.2, 4.4, 12.3, 88.2])\n",
    "grupo3 = np.array([2.2, 3.2, 4.2, 4.1, 7.7, 12.2])"
   ]
  },
  {
   "cell_type": "code",
   "execution_count": 13,
   "id": "145ca70d",
   "metadata": {},
   "outputs": [
    {
     "name": "stdout",
     "output_type": "stream",
     "text": [
      "Desvio Médio do Grupo 1: 3.82\n",
      "Desvio Médio do Grupo 2: 23.23\n",
      "Desvio Médio do Grupo 3: 2.90\n"
     ]
    }
   ],
   "source": [
    "def desvio_medio(g1, g2, g3):\n",
    "    \n",
    "    # Calculando o desvio médio absoluto dos três grupos\n",
    "    dvg1 = np.sum(np.abs(g1 - np.mean(g1))) / len(g1)\n",
    "    dvg2 = np.sum(np.abs(g2 - np.mean(g2))) / len(g2)\n",
    "    dvg3 = np.sum(np.abs(g3 - np.mean(g3))) / len(g3)\n",
    "    \n",
    "    # Imprimindo o desvio médio absoluto dos três grupos\n",
    "    print(f\"Desvio Médio do Grupo 1: {dvg1:.2f}\")\n",
    "    print(f\"Desvio Médio do Grupo 2: {dvg2:.2f}\")\n",
    "    print(f\"Desvio Médio do Grupo 3: {dvg3:.2f}\")\n",
    "    \n",
    "# Chamando a função desvio_medio()\n",
    "desvio_medio(grupo1, grupo2, grupo3)"
   ]
  },
  {
   "cell_type": "markdown",
   "id": "85bcec31",
   "metadata": {},
   "source": [
    "## Variância 🐞\n",
    "\n",
    "<p style=\"font-family: \tTimes New Roman; font-size: 16px;\">A variância de uma variável aleatória é uma medida da sua dispersão estatística, indicando \"o quão longe\" em geral os seus valores se encontram do valor esperado.</p>\n",
    "\n",
    "### $$\\sigma^2 = \\frac{\\sum_{i=1}^n(x_i - \\bar{x})^2}{n}$$\n",
    "\n",
    "<p style=\"font-family: \tTimes New Roman; font-size: 16px;\">Uma maneira computacionalmente mais eficiente de calcular a variância é:</p>\n",
    "\n",
    "### $$\\sigma^2 = \\frac{\\sum_{i=1}^nX_i^2}{n} - \\bar{x}^2$$"
   ]
  },
  {
   "cell_type": "code",
   "execution_count": 15,
   "id": "eed0eedf",
   "metadata": {},
   "outputs": [
    {
     "name": "stdout",
     "output_type": "stream",
     "text": [
      "A variância do grupo 1: 17.02\n",
      "A variância do grupo 2: 984.65\n",
      "A variância do grupo 3: 11.58\n"
     ]
    }
   ],
   "source": [
    "# Calculando as variâncias dos três grupos criados acima\n",
    "print(f\"A variância do grupo 1: {grupo1.var():.2f}\")\n",
    "print(f\"A variância do grupo 2: {grupo2.var():.2f}\")\n",
    "print(f\"A variância do grupo 3: {grupo3.var():.2f}\")"
   ]
  },
  {
   "cell_type": "markdown",
   "id": "d3fb7caa",
   "metadata": {},
   "source": [
    "## Desvio Padrão  🐜\n",
    "\n",
    "<p style=\"font-family: \tTimes New Roman; font-size: 16px;\">O desvio padrão é uma medida de dispersão em torno da média de uma variável aleatória.</p>\n",
    "\n",
    "### $$\\sigma = \\sqrt{\\frac{\\sum_{i=1}^n(x_i - \\bar{x})^2}{n}}$$"
   ]
  },
  {
   "cell_type": "code",
   "execution_count": 16,
   "id": "c67945f9",
   "metadata": {},
   "outputs": [
    {
     "name": "stdout",
     "output_type": "stream",
     "text": [
      "A variância do grupo 1: 4.13\n",
      "A variância do grupo 2: 31.38\n",
      "A variância do grupo 3: 3.40\n"
     ]
    }
   ],
   "source": [
    "# Calculando o desvio padrão dos três grupos criados acima\n",
    "print(f\"A variância do grupo 1: {grupo1.std():.2f}\")\n",
    "print(f\"A variância do grupo 2: {grupo2.std():.2f}\")\n",
    "print(f\"A variância do grupo 3: {grupo3.std():.2f}\")"
   ]
  },
  {
   "cell_type": "markdown",
   "id": "e4459a32",
   "metadata": {},
   "source": [
    "## Coeficiente de Variação  🪰\n",
    "\n",
    "<p style=\"font-family: \tTimes New Roman; font-size: 16px;\">O coeficiente de variação, também conhecido como desvio padrão relativo, é uma medida padronizada de dispersão de uma distribuição de probabilidade ou de uma distribuição de frequências.</p>\n",
    "\n",
    "### $$C_v = \\frac{\\sigma}{\\bar{x}} * 100$$"
   ]
  },
  {
   "cell_type": "code",
   "execution_count": null,
   "id": "dafc9e96",
   "metadata": {},
   "outputs": [],
   "source": []
  }
 ],
 "metadata": {
  "kernelspec": {
   "display_name": "Python 3 (ipykernel)",
   "language": "python",
   "name": "python3"
  },
  "language_info": {
   "codemirror_mode": {
    "name": "ipython",
    "version": 3
   },
   "file_extension": ".py",
   "mimetype": "text/x-python",
   "name": "python",
   "nbconvert_exporter": "python",
   "pygments_lexer": "ipython3",
   "version": "3.9.13"
  }
 },
 "nbformat": 4,
 "nbformat_minor": 5
}
